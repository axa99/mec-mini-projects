{
 "cells": [
  {
   "cell_type": "markdown",
   "metadata": {
    "colab_type": "text",
    "id": "KkqlbEEvsHuw"
   },
   "source": [
    "# Recommendation Systems"
   ]
  },
  {
   "cell_type": "markdown",
   "metadata": {
    "colab_type": "text",
    "id": "JXCjew2ItepU"
   },
   "source": [
    "Companies like Amazon(books, items), Netflix(movies), Google(News,Search), and Pandora/Spotify(music) leverage recommendation systems to help users discover new and relevant items (products, videos, jobs, music), creating a delightful user experience while driving incremental revenue. \n",
    "\n",
    "The need to build robust recommendation systems is extremely important given the huge demand for personalized content of modern consumers.\n"
   ]
  },
  {
   "cell_type": "markdown",
   "metadata": {
    "colab_type": "text",
    "id": "_lc420j2uhwZ"
   },
   "source": [
    "In this assignment, you will be applying your learning of recommendation systems in this Unit towards building the following four different types of recommendation systems:\n",
    "\n",
    "1.   Global Recommendation Systems (Statistical)   \n",
    "2.   Content-based Recommendation Systems\n",
    "3.   Collaborative Filtering (User-Item) Recommendation Systems\n",
    "4.   Hybrid Recommendation Systems\n",
    "\n",
    "The focus of the mini-project here would be to build a movie recommendation system.\n"
   ]
  },
  {
   "cell_type": "markdown",
   "metadata": {
    "colab_type": "text",
    "id": "CL3nuM_Kv17_"
   },
   "source": [
    "## 1. Dataset Acquisition\n",
    "\n",
    "Following are the key descriptions of the datasets you will be using. The data used here has been compiled from various movie datasets like Netflix and IMDb.\n",
    "\n",
    "1. __Filename: `movie_titles.csv`:__\n",
    "\n",
    "  - __`MovieID`__: MovieID does not correspond to actual Netflix movie ids or IMDB movie ids\n",
    "  - __`YearOfRelease`__: YearOfRelease can range from 1890 to 2005 and may correspond to the release of corresponding DVD, not necessarily its theaterical release\n",
    "  - __`Title`__: Title is the Netflix movie title and may not correspond to titles used on other sites. Titles are in English\n",
    "\n",
    "\n",
    "2. __Combined User-Ratings Dataset Description - `combined_data.csv`:__\n",
    "\n",
    "  - The first line of the contains the movie id followed by a colon.    \n",
    "  - Each subsequent line in the file corresponds to a rating from a customer and its date in the following format:\n",
    "\n",
    "    - MovieIDs range from 1 to 17770 sequentially.\n",
    "    - CustomerIDs range from 1 to 2649429, with gaps. There are 480189 users. \n",
    "    - Ratings are on a five star (integral) scale from 1 to 5.\n",
    "    - Dates have the format YYYY-MM-DD.\n",
    "\n",
    "\n",
    "3. __Filename: `movies_metadata.csv`__\n",
    "\n",
    "The main Movies Metadata file. Contains information on 45,000 movies featured in the Full MovieLens dataset. Features include posters, backdrops, budget, revenue, release dates, languages, production countries and companies.\n"
   ]
  },
  {
   "cell_type": "markdown",
   "metadata": {
    "colab_type": "text",
    "id": "aaic3a2Cw0T5"
   },
   "source": [
    "## 2: Import Necessary Dependencies\n",
    "\n",
    "We will be leveraging __`keras`__ on top of __`tensorflow`__ for building some of the collaborative filtering and hybrid models. There are compatibility issues with handling sparse layers with dense layers till now in TensorFlow 2 hence we are leveraging native Keras but in the long run once this issue is resolved we can leverage __`tf.keras`__ with minimal code updates."
   ]
  },
  {
   "cell_type": "code",
   "execution_count": 14,
   "metadata": {
    "colab": {},
    "colab_type": "code",
    "id": "iX9t8rYaxVGh"
   },
   "outputs": [],
   "source": [
    "# filter out unncessary warnings\n",
    "import warnings\n",
    "warnings.filterwarnings('ignore')"
   ]
  },
  {
   "cell_type": "code",
   "execution_count": 76,
   "metadata": {
    "colab": {
     "base_uri": "https://localhost:8080/",
     "height": 79
    },
    "colab_type": "code",
    "id": "JGWCPwAiP7vv",
    "outputId": "a0320c9e-dfa3-49e3-bf35-2095bce263d8"
   },
   "outputs": [],
   "source": [
    "# To store\\load the data\n",
    "import pandas as pd\n",
    "import csv\n",
    "\n",
    "# To do linear algebra\n",
    "import numpy as np\n",
    "\n",
    "# To create plots\n",
    "import matplotlib.pyplot as plt\n",
    "import seaborn as sns\n",
    "import matplotlib\n",
    "\n",
    "\n",
    "# To compute similarities between vectors\n",
    "from sklearn.metrics import mean_squared_error\n",
    "from sklearn.metrics.pairwise import cosine_similarity\n",
    "from sklearn.feature_extraction.text import TfidfVectorizer\n",
    "\n",
    "# data load progress bars\n",
    "from tqdm import tqdm\n",
    "\n",
    "from collections import deque\n",
    "\n",
    "# To create deep learning models\n",
    "import tensorflow as tf\n",
    "import keras\n",
    "from keras.layers import Input, Embedding, Reshape, Dot, Concatenate, Dense, Dropout\n",
    "from keras.models import Model\n",
    "\n",
    "# To stack sparse matrices\n",
    "from scipy.sparse import vstack"
   ]
  },
  {
   "cell_type": "code",
   "execution_count": 2,
   "metadata": {
    "colab": {},
    "colab_type": "code",
    "id": "whZc1FgzyPyY"
   },
   "outputs": [],
   "source": [
    "# remove unnecessary TF logs\n",
    "import logging\n",
    "tf.get_logger().setLevel(logging.ERROR)"
   ]
  },
  {
   "cell_type": "code",
   "execution_count": 3,
   "metadata": {
    "colab": {
     "base_uri": "https://localhost:8080/",
     "height": 50
    },
    "colab_type": "code",
    "id": "Ce2tjPHPzWFd",
    "outputId": "f69dceec-26bc-44a3-b47c-5615a02ded51"
   },
   "outputs": [
    {
     "name": "stdout",
     "output_type": "stream",
     "text": [
      "TF Version: 2.11.0\n",
      "Keras Version: 2.11.0\n"
     ]
    }
   ],
   "source": [
    "# check keras and TF version used\n",
    "print('TF Version:', tf.__version__)\n",
    "print('Keras Version:', keras.__version__)\n",
    "# TF Version: 1.15.0\n",
    "# Keras Version: 2.2.5"
   ]
  },
  {
   "cell_type": "markdown",
   "metadata": {
    "colab_type": "text",
    "id": "lXXYudDD0Coy"
   },
   "source": [
    "Let's start loading data that will be used for building the recommendation systems"
   ]
  },
  {
   "cell_type": "markdown",
   "metadata": {
    "colab_type": "text",
    "id": "6FJZmUvExOYt"
   },
   "source": [
    "# 3. Load Datasets"
   ]
  },
  {
   "cell_type": "markdown",
   "metadata": {
    "colab_type": "text",
    "id": "AnAU78S7xz-H"
   },
   "source": [
    "## 3.1: Load Movie Metadata Datasets\n",
    "\n",
    "First, we will load the movie_titles.csv data from the Netflix prize data source"
   ]
  },
  {
   "cell_type": "code",
   "execution_count": 54,
   "metadata": {
    "colab": {
     "base_uri": "https://localhost:8080/",
     "height": 242
    },
    "colab_type": "code",
    "id": "tgD9whbBfcWW",
    "outputId": "4b9b02d5-13bf-4d4b-a684-2bf9420fa4da"
   },
   "outputs": [
    {
     "data": {
      "text/html": [
       "<div>\n",
       "<style scoped>\n",
       "    .dataframe tbody tr th:only-of-type {\n",
       "        vertical-align: middle;\n",
       "    }\n",
       "\n",
       "    .dataframe tbody tr th {\n",
       "        vertical-align: top;\n",
       "    }\n",
       "\n",
       "    .dataframe thead th {\n",
       "        text-align: right;\n",
       "    }\n",
       "</style>\n",
       "<table border=\"1\" class=\"dataframe\">\n",
       "  <thead>\n",
       "    <tr style=\"text-align: right;\">\n",
       "      <th></th>\n",
       "      <th>Year</th>\n",
       "      <th>Name</th>\n",
       "    </tr>\n",
       "    <tr>\n",
       "      <th>Id</th>\n",
       "      <th></th>\n",
       "      <th></th>\n",
       "    </tr>\n",
       "  </thead>\n",
       "  <tbody>\n",
       "    <tr>\n",
       "      <th>1</th>\n",
       "      <td>2003</td>\n",
       "      <td>Dinosaur Planet</td>\n",
       "    </tr>\n",
       "    <tr>\n",
       "      <th>2</th>\n",
       "      <td>2004</td>\n",
       "      <td>Isle of Man TT 2004 Review</td>\n",
       "    </tr>\n",
       "    <tr>\n",
       "      <th>3</th>\n",
       "      <td>1997</td>\n",
       "      <td>Character</td>\n",
       "    </tr>\n",
       "    <tr>\n",
       "      <th>4</th>\n",
       "      <td>1994</td>\n",
       "      <td>Paula Abdul's Get Up &amp; Dance</td>\n",
       "    </tr>\n",
       "    <tr>\n",
       "      <th>5</th>\n",
       "      <td>2004</td>\n",
       "      <td>The Rise and Fall of ECW</td>\n",
       "    </tr>\n",
       "    <tr>\n",
       "      <th>...</th>\n",
       "      <td>...</td>\n",
       "      <td>...</td>\n",
       "    </tr>\n",
       "    <tr>\n",
       "      <th>17766</th>\n",
       "      <td>2002</td>\n",
       "      <td>Where the Wild Things Are and Other Maurice Se...</td>\n",
       "    </tr>\n",
       "    <tr>\n",
       "      <th>17767</th>\n",
       "      <td>2004</td>\n",
       "      <td>Fidel Castro: American Experience</td>\n",
       "    </tr>\n",
       "    <tr>\n",
       "      <th>17768</th>\n",
       "      <td>2000</td>\n",
       "      <td>Epoch</td>\n",
       "    </tr>\n",
       "    <tr>\n",
       "      <th>17769</th>\n",
       "      <td>2003</td>\n",
       "      <td>The Company</td>\n",
       "    </tr>\n",
       "    <tr>\n",
       "      <th>17770</th>\n",
       "      <td>2003</td>\n",
       "      <td>Alien Hunter</td>\n",
       "    </tr>\n",
       "  </tbody>\n",
       "</table>\n",
       "<p>17763 rows × 2 columns</p>\n",
       "</div>"
      ],
      "text/plain": [
       "       Year                                               Name\n",
       "Id                                                            \n",
       "1      2003                                    Dinosaur Planet\n",
       "2      2004                         Isle of Man TT 2004 Review\n",
       "3      1997                                          Character\n",
       "4      1994                       Paula Abdul's Get Up & Dance\n",
       "5      2004                           The Rise and Fall of ECW\n",
       "...     ...                                                ...\n",
       "17766  2002  Where the Wild Things Are and Other Maurice Se...\n",
       "17767  2004                  Fidel Castro: American Experience\n",
       "17768  2000                                              Epoch\n",
       "17769  2003                                        The Company\n",
       "17770  2003                                       Alien Hunter\n",
       "\n",
       "[17763 rows x 2 columns]"
      ]
     },
     "execution_count": 54,
     "metadata": {},
     "output_type": "execute_result"
    }
   ],
   "source": [
    "# Load data for all movies\n",
    "movie_titles = pd.read_csv(\n",
    "    \"./data/movie_titles.csv\",\n",
    "    encoding=\"ISO-8859-1\",\n",
    "    header=None,\n",
    "    names=[\"data\"],\n",
    "    sep=\"\\t\",\n",
    ")\n",
    "\n",
    "\n",
    "movie_titles[['Id', 'Year', 'Name']] = movie_titles[\n",
    "    \"data\"\n",
    "].str.split(\",\", expand=True, n=2)\n",
    "movie_titles = movie_titles.drop(columns=[\"data\"]).set_index(\"Id\")\n",
    "movie_titles = movie_titles.drop(movie_titles[movie_titles['Year'] == 'NULL'].index,axis=0)\n",
    "\n",
    "movie_titles\n"
   ]
  },
  {
   "cell_type": "markdown",
   "metadata": {
    "colab_type": "text",
    "id": "SYafEzcYxa09"
   },
   "source": [
    "There are approximately 18000 movies in the ratings dataset and the metadata information includes the year of release and movie title"
   ]
  },
  {
   "cell_type": "markdown",
   "metadata": {
    "colab_type": "text",
    "id": "aE4QaObcyAup"
   },
   "source": [
    "Next, we will load the movie_metadata.csv from The movies dataset source. This is to get the metadata information like description etc. related to each movie."
   ]
  },
  {
   "cell_type": "code",
   "execution_count": 55,
   "metadata": {
    "colab": {
     "base_uri": "https://localhost:8080/",
     "height": 242
    },
    "colab_type": "code",
    "id": "WWig4ePBqGSD",
    "outputId": "3dff280d-bb3e-4701-b0fb-ced2eecbee1b"
   },
   "outputs": [
    {
     "name": "stdout",
     "output_type": "stream",
     "text": [
      "Shape Movie-Metadata:\t(21604, 1)\n"
     ]
    },
    {
     "data": {
      "text/html": [
       "<div>\n",
       "<style scoped>\n",
       "    .dataframe tbody tr th:only-of-type {\n",
       "        vertical-align: middle;\n",
       "    }\n",
       "\n",
       "    .dataframe tbody tr th {\n",
       "        vertical-align: top;\n",
       "    }\n",
       "\n",
       "    .dataframe thead th {\n",
       "        text-align: right;\n",
       "    }\n",
       "</style>\n",
       "<table border=\"1\" class=\"dataframe\">\n",
       "  <thead>\n",
       "    <tr style=\"text-align: right;\">\n",
       "      <th></th>\n",
       "      <th>overview</th>\n",
       "    </tr>\n",
       "    <tr>\n",
       "      <th>original_title</th>\n",
       "      <th></th>\n",
       "    </tr>\n",
       "  </thead>\n",
       "  <tbody>\n",
       "    <tr>\n",
       "      <th>Mean Creek</th>\n",
       "      <td>Teenagers living in small-town Oregon take a b...</td>\n",
       "    </tr>\n",
       "    <tr>\n",
       "      <th>Club Dread</th>\n",
       "      <td>When a serial killer interrupts the fun at the...</td>\n",
       "    </tr>\n",
       "    <tr>\n",
       "      <th>Superfantagenio</th>\n",
       "      <td>Updating of the old \"Aladdin\" Arabian Nights t...</td>\n",
       "    </tr>\n",
       "    <tr>\n",
       "      <th>I Married a Strange Person!</th>\n",
       "      <td>A newlywed develops a strange lump on his neck...</td>\n",
       "    </tr>\n",
       "    <tr>\n",
       "      <th>Kill Switch</th>\n",
       "      <td>A pilot battles to save his family and the pla...</td>\n",
       "    </tr>\n",
       "  </tbody>\n",
       "</table>\n",
       "</div>"
      ],
      "text/plain": [
       "                                                                      overview\n",
       "original_title                                                                \n",
       "Mean Creek                   Teenagers living in small-town Oregon take a b...\n",
       "Club Dread                   When a serial killer interrupts the fun at the...\n",
       "Superfantagenio              Updating of the old \"Aladdin\" Arabian Nights t...\n",
       "I Married a Strange Person!  A newlywed develops a strange lump on his neck...\n",
       "Kill Switch                  A pilot battles to save his family and the pla..."
      ]
     },
     "execution_count": 55,
     "metadata": {},
     "output_type": "execute_result"
    }
   ],
   "source": [
    "# Load a movie metadata dataset\n",
    "movie_metadata = (pd.read_csv('./data/movies_metadata.csv.zip', \n",
    "                              low_memory=False)[['original_title', 'overview', 'vote_count']]\n",
    "                    .set_index('original_title')\n",
    "                    .dropna())\n",
    "\n",
    "# Remove the long tail of rarly rated moves\n",
    "movie_metadata = movie_metadata[movie_metadata['vote_count']>10].drop('vote_count', axis=1)\n",
    "\n",
    "print('Shape Movie-Metadata:\\t{}'.format(movie_metadata.shape))\n",
    "movie_metadata.sample(5)"
   ]
  },
  {
   "cell_type": "markdown",
   "metadata": {
    "colab_type": "text",
    "id": "dElmRUSWyYoh"
   },
   "source": [
    "Around 21,000 entries in the movies metadata dataset"
   ]
  },
  {
   "cell_type": "markdown",
   "metadata": {
    "colab_type": "text",
    "id": "XJ3cHW1eyhwR"
   },
   "source": [
    "## 3.2: Load User-Movie-Rating Dataset"
   ]
  },
  {
   "cell_type": "code",
   "execution_count": 8,
   "metadata": {},
   "outputs": [
    {
     "name": "stderr",
     "output_type": "stream",
     "text": [
      "Downloading...\n",
      "From: https://drive.google.com/uc?export=download&id=1z0O0fXuofdsbpL8fkCVgjeIwFP_LxGX2\n",
      "To: /Users/arnav9/Documents/MLE Projects/mec-mini-projects/mec-17.4.1-recommendation-systems-mini-project/data/combined_data.csv.zip\n",
      "100%|██████████| 161M/161M [00:01<00:00, 94.1MB/s] \n"
     ]
    },
    {
     "data": {
      "text/plain": [
       "'./data/combined_data.csv.zip'"
      ]
     },
     "execution_count": 8,
     "metadata": {},
     "output_type": "execute_result"
    }
   ],
   "source": [
    "import gdown\n",
    "gdown.download(\"https://drive.google.com/uc?export=download&id=1z0O0fXuofdsbpL8fkCVgjeIwFP_LxGX2\", \"./data/combined_data.csv.zip\", quiet=False)"
   ]
  },
  {
   "cell_type": "code",
   "execution_count": 9,
   "metadata": {
    "colab": {
     "base_uri": "https://localhost:8080/",
     "height": 360
    },
    "colab_type": "code",
    "id": "4s_qbrIhqW31",
    "outputId": "b9505c13-e21e-4cf2-837d-5410394b7655"
   },
   "outputs": [
    {
     "name": "stdout",
     "output_type": "stream",
     "text": [
      "Shape User-Ratings:\t(24053764, 4)\n"
     ]
    },
    {
     "data": {
      "text/html": [
       "<div>\n",
       "<style scoped>\n",
       "    .dataframe tbody tr th:only-of-type {\n",
       "        vertical-align: middle;\n",
       "    }\n",
       "\n",
       "    .dataframe tbody tr th {\n",
       "        vertical-align: top;\n",
       "    }\n",
       "\n",
       "    .dataframe thead th {\n",
       "        text-align: right;\n",
       "    }\n",
       "</style>\n",
       "<table border=\"1\" class=\"dataframe\">\n",
       "  <thead>\n",
       "    <tr style=\"text-align: right;\">\n",
       "      <th></th>\n",
       "      <th>User</th>\n",
       "      <th>Rating</th>\n",
       "      <th>Date</th>\n",
       "      <th>Movie</th>\n",
       "    </tr>\n",
       "  </thead>\n",
       "  <tbody>\n",
       "    <tr>\n",
       "      <th>5836031</th>\n",
       "      <td>2439561</td>\n",
       "      <td>2.0</td>\n",
       "      <td>2003-09-17</td>\n",
       "      <td>1145</td>\n",
       "    </tr>\n",
       "    <tr>\n",
       "      <th>7105454</th>\n",
       "      <td>663191</td>\n",
       "      <td>1.0</td>\n",
       "      <td>2005-07-28</td>\n",
       "      <td>1428</td>\n",
       "    </tr>\n",
       "    <tr>\n",
       "      <th>15522913</th>\n",
       "      <td>1186265</td>\n",
       "      <td>3.0</td>\n",
       "      <td>2004-05-09</td>\n",
       "      <td>2992</td>\n",
       "    </tr>\n",
       "    <tr>\n",
       "      <th>12726265</th>\n",
       "      <td>2322222</td>\n",
       "      <td>4.0</td>\n",
       "      <td>2001-08-19</td>\n",
       "      <td>2443</td>\n",
       "    </tr>\n",
       "    <tr>\n",
       "      <th>23802090</th>\n",
       "      <td>2197205</td>\n",
       "      <td>3.0</td>\n",
       "      <td>2005-05-31</td>\n",
       "      <td>4432</td>\n",
       "    </tr>\n",
       "    <tr>\n",
       "      <th>20926612</th>\n",
       "      <td>504761</td>\n",
       "      <td>3.0</td>\n",
       "      <td>2004-12-22</td>\n",
       "      <td>3936</td>\n",
       "    </tr>\n",
       "    <tr>\n",
       "      <th>1022261</th>\n",
       "      <td>1309958</td>\n",
       "      <td>5.0</td>\n",
       "      <td>2005-04-21</td>\n",
       "      <td>241</td>\n",
       "    </tr>\n",
       "    <tr>\n",
       "      <th>7472576</th>\n",
       "      <td>124699</td>\n",
       "      <td>4.0</td>\n",
       "      <td>2004-05-12</td>\n",
       "      <td>1495</td>\n",
       "    </tr>\n",
       "    <tr>\n",
       "      <th>19109175</th>\n",
       "      <td>1612701</td>\n",
       "      <td>4.0</td>\n",
       "      <td>2004-06-29</td>\n",
       "      <td>3626</td>\n",
       "    </tr>\n",
       "    <tr>\n",
       "      <th>20640141</th>\n",
       "      <td>1443294</td>\n",
       "      <td>2.0</td>\n",
       "      <td>2005-10-26</td>\n",
       "      <td>3911</td>\n",
       "    </tr>\n",
       "  </tbody>\n",
       "</table>\n",
       "</div>"
      ],
      "text/plain": [
       "             User  Rating        Date  Movie\n",
       "5836031   2439561     2.0  2003-09-17   1145\n",
       "7105454    663191     1.0  2005-07-28   1428\n",
       "15522913  1186265     3.0  2004-05-09   2992\n",
       "12726265  2322222     4.0  2001-08-19   2443\n",
       "23802090  2197205     3.0  2005-05-31   4432\n",
       "20926612   504761     3.0  2004-12-22   3936\n",
       "1022261   1309958     5.0  2005-04-21    241\n",
       "7472576    124699     4.0  2004-05-12   1495\n",
       "19109175  1612701     4.0  2004-06-29   3626\n",
       "20640141  1443294     2.0  2005-10-26   3911"
      ]
     },
     "execution_count": 9,
     "metadata": {},
     "output_type": "execute_result"
    }
   ],
   "source": [
    "# Load single data-file\n",
    "df_raw = pd.read_csv('./data/combined_data.csv.zip', \n",
    "                     header=None, \n",
    "                     names=['User', 'Rating', 'Date'], \n",
    "                     usecols=[0, 1, 2])\n",
    "\n",
    "# Find empty rows to slice dataframe for each movie\n",
    "tmp_movies = df_raw[df_raw['Rating'].isna()]['User'].reset_index()\n",
    "movie_indices = [[index, int(movie[:-1])] for index, movie in tmp_movies.values]\n",
    "\n",
    "# Shift the movie_indices by one to get start and endpoints of all movies\n",
    "shifted_movie_indices = deque(movie_indices)\n",
    "shifted_movie_indices.rotate(-1)\n",
    "\n",
    "# Gather all dataframes\n",
    "user_data = []\n",
    "\n",
    "# Iterate over all movies\n",
    "for [df_id_1, movie_id], [df_id_2, next_movie_id] in zip(movie_indices, shifted_movie_indices):\n",
    "    \n",
    "    # Check if it is the last movie in the file\n",
    "    if df_id_1<df_id_2:\n",
    "        tmp_df = df_raw.loc[df_id_1+1:df_id_2-1].copy()\n",
    "    else:\n",
    "        tmp_df = df_raw.loc[df_id_1+1:].copy()\n",
    "        \n",
    "    # Create movie_id column\n",
    "    tmp_df['Movie'] = movie_id\n",
    "    \n",
    "    # Append dataframe to list\n",
    "    user_data.append(tmp_df)\n",
    "\n",
    "# Combine all dataframes\n",
    "df = pd.concat(user_data)\n",
    "del user_data, df_raw, tmp_movies, tmp_df, shifted_movie_indices, movie_indices, df_id_1, movie_id, df_id_2, next_movie_id\n",
    "print('Shape User-Ratings:\\t{}'.format(df.shape))\n",
    "df.sample(10)"
   ]
  },
  {
   "cell_type": "markdown",
   "metadata": {
    "colab_type": "text",
    "id": "sg90OAW_zUwL"
   },
   "source": [
    "There are about 24 Million+ different rating records!"
   ]
  },
  {
   "cell_type": "markdown",
   "metadata": {
    "colab_type": "text",
    "id": "xKIrEduYz6gh"
   },
   "source": [
    "We have taken the data required for building the system and now let's do some EDA on the dataset to better understand our data"
   ]
  },
  {
   "cell_type": "markdown",
   "metadata": {
    "colab_type": "text",
    "id": "4wQzTRdm0tYg"
   },
   "source": [
    "# 4. Exploratory Data Analysis"
   ]
  },
  {
   "cell_type": "markdown",
   "metadata": {
    "colab_type": "text",
    "id": "KVaYGLc94aGm"
   },
   "source": [
    "## 4.1: When were the movies released?\n"
   ]
  },
  {
   "cell_type": "code",
   "execution_count": 61,
   "metadata": {
    "colab": {
     "base_uri": "https://localhost:8080/",
     "height": 374
    },
    "colab_type": "code",
    "id": "-iwB_2Cm24FL",
    "outputId": "b94a5226-9278-4579-e190-c8b20f2903c5"
   },
   "outputs": [
    {
     "data": {
      "image/png": "[encoded data removed]",
      "text/plain": [
       "<Figure size 1400x600 with 1 Axes>"
      ]
     },
     "metadata": {},
     "output_type": "display_data"
    }
   ],
   "source": [
    "fig, ax = plt.subplots(1, 1, figsize=(14, 6))\n",
    "\n",
    "data = movie_titles['Year'].value_counts().sort_index()\n",
    "x = data.index.map(int)\n",
    "y = data.values\n",
    "\n",
    "sns.barplot(x=x, y=y)\n",
    "xmin, xmax = plt.xlim()\n",
    "xtick_labels = [x[0]] + list(x[10:-10:10]) + [x[-1]]\n",
    "plt.xticks(ticks=np.linspace(xmin, xmax, 10), labels=xtick_labels);"
   ]
  },
  {
   "cell_type": "markdown",
   "metadata": {
    "colab_type": "text",
    "id": "lJ2mWAym5rBL"
   },
   "source": [
    "Many movies on Netflix have been released in this millennial. Whether Netflix prefers young movies or there are no old movies left can not be deduced from this plot.\n",
    "The decline for the rightmost point is probably caused by an incomplete last year."
   ]
  },
  {
   "cell_type": "markdown",
   "metadata": {
    "colab_type": "text",
    "id": "QACzcP3w4z6j"
   },
   "source": [
    "## Q 4.2: How are The Ratings Distributed?\n",
    "\n",
    "__Your Turn:__ Build the visualization for rating distributions similar to the previous plot.\n"
   ]
  },
  {
   "cell_type": "code",
   "execution_count": 84,
   "metadata": {
    "colab": {
     "base_uri": "https://localhost:8080/",
     "height": 385
    },
    "colab_type": "code",
    "id": "16Mvv0w124FP",
    "outputId": "b9643de6-3b43-4826-ef57-744fde784404"
   },
   "outputs": [
    {
     "data": {
      "image/png": "[encoded data removed]",
      "text/plain": [
       "<Figure size 800x600 with 1 Axes>"
      ]
     },
     "metadata": {},
     "output_type": "display_data"
    }
   ],
   "source": [
    "fig, ax = plt.subplots(1, 1, figsize=(8, 6))\n",
    "\n",
    "rating_data = df[\"Rating\"].value_counts().sort_index()\n",
    "x = rating_data.index\n",
    "y = rating_data.values\n",
    "sns.barplot(x=x, y=y)\n",
    "plt.ticklabel_format(style=\"plain\", axis=\"y\")\n",
    "ax.get_yaxis().set_major_formatter(\n",
    "    matplotlib.ticker.FuncFormatter(lambda x, p: format(int(x), \",\"))\n",
    ")\n"
   ]
  },
  {
   "cell_type": "code",
   "execution_count": 80,
   "metadata": {},
   "outputs": [
    {
     "data": {
      "text/plain": [
       "1.0    1118186\n",
       "2.0    2439073\n",
       "5.0    5506583\n",
       "3.0    6904181\n",
       "4.0    8085741\n",
       "Name: Rating, dtype: int64"
      ]
     },
     "execution_count": 80,
     "metadata": {},
     "output_type": "execute_result"
    }
   ],
   "source": [
    "rating_data.sort_values()"
   ]
  },
  {
   "cell_type": "markdown",
   "metadata": {
    "colab_type": "text",
    "id": "Pn5uhmcu5xCE"
   },
   "source": [
    "Netflix movies rarely have a rating lower than three. Most ratings have between three and four stars.\n",
    "The distribution is probably biased, since only people liking the movies proceed to be customers and others presumably will leave the platform."
   ]
  },
  {
   "cell_type": "markdown",
   "metadata": {
    "colab_type": "text",
    "id": "PQwkKk935eRl"
   },
   "source": [
    "## 4.3: Visualize the Distribution of Number of Movie Ratings \n",
    "\n",
    "This is to understand how many movies (y-axis) are receiving specific number of movie ratings (x-axis)"
   ]
  },
  {
   "cell_type": "code",
   "execution_count": null,
   "metadata": {
    "colab": {
     "base_uri": "https://localhost:8080/",
     "height": 388
    },
    "colab_type": "code",
    "id": "yatEt4eE24FS",
    "outputId": "ca1767f5-2bf8-407a-e232-26e44bac8d2d"
   },
   "outputs": [],
   "source": [
    "fig, ax = plt.subplots(1, 2, figsize=(14, 6))\n",
    "\n",
    "data = df.groupby('Movie')['Rating'].count()\n",
    "sns.distplot(data[data  < 10000], kde=False, ax=ax[0]);\n",
    "sns.distplot(data[data  > 10000], kde=False, ax=ax[1]);"
   ]
  },
  {
   "cell_type": "markdown",
   "metadata": {
    "colab_type": "text",
    "id": "lS5we5r4-nyV"
   },
   "source": [
    "## Q 4.4: Visualize the Distribution of Number of User Ratings \n",
    "\n",
    "This is to understand how many users (y-axis) are giving specific number of movie ratings (x-axis)\n",
    "\n",
    "__Your Turn:__ Try to find out an optimal threshold as in the previous example to split the data to form two understandable subplots!"
   ]
  },
  {
   "cell_type": "code",
   "execution_count": null,
   "metadata": {
    "colab": {
     "base_uri": "https://localhost:8080/",
     "height": 388
    },
    "colab_type": "code",
    "id": "hf-Q6jP-24FV",
    "outputId": "8ff4752b-527c-476c-c417-3d5c63a89b99"
   },
   "outputs": [],
   "source": []
  },
  {
   "cell_type": "markdown",
   "metadata": {
    "colab_type": "text",
    "id": "EMOY1tG75i24"
   },
   "source": [
    "The ratings per movie as well as the ratings per user both have nearly a perfect exponential decay. Only very few movies/users have many ratings."
   ]
  },
  {
   "cell_type": "markdown",
   "metadata": {
    "colab_type": "text",
    "id": "p5S7Q14L_CL1"
   },
   "source": [
    "# 5. Dimensionality Reduction & Filtering"
   ]
  },
  {
   "cell_type": "markdown",
   "metadata": {
    "colab_type": "text",
    "id": "h5YZwbcH7LzU"
   },
   "source": [
    "## Filter Sparse Movies And Users\n",
    "\n",
    "To reduce the dimensionality of the dataset I am filtering rarely rated movies and rarely rating users out.\n"
   ]
  },
  {
   "cell_type": "code",
   "execution_count": null,
   "metadata": {
    "colab": {
     "base_uri": "https://localhost:8080/",
     "height": 50
    },
    "colab_type": "code",
    "id": "4nwtEkvSFFK5",
    "outputId": "44e339a2-a068-40d9-848f-619d56288676"
   },
   "outputs": [],
   "source": [
    "# Filter sparse movies\n",
    "min_movie_ratings = 1000\n",
    "filter_movies = (df['Movie'].value_counts()>min_movie_ratings)\n",
    "filter_movies = filter_movies[filter_movies].index.tolist()\n",
    "\n",
    "# Filter sparse users\n",
    "min_user_ratings = 200\n",
    "filter_users = (df['User'].value_counts()>min_user_ratings)\n",
    "filter_users = filter_users[filter_users].index.tolist()\n",
    "\n",
    "# Actual filtering\n",
    "df_filtered = df[(df['Movie'].isin(filter_movies)) & (df['User'].isin(filter_users))]\n",
    "del filter_movies, filter_users, min_movie_ratings, min_user_ratings\n",
    "print('Shape User-Ratings unfiltered:\\t{}'.format(df.shape))\n",
    "print('Shape User-Ratings filtered:\\t{}'.format(df_filtered.shape))"
   ]
  },
  {
   "cell_type": "markdown",
   "metadata": {
    "colab_type": "text",
    "id": "9GQ4JmM67TYQ"
   },
   "source": [
    "After filtering sparse movies and users about 5.9M rating records are present."
   ]
  },
  {
   "cell_type": "markdown",
   "metadata": {
    "colab_type": "text",
    "id": "EI1CoJP9_kbF"
   },
   "source": [
    "# 6. Create Train and Test Datasets\n",
    "\n",
    "Do note this will be used for the statistical method based models and collaborative filtering.\n",
    "\n",
    "For content based filtering it is more of a model which recommends movies rather than predicting ratings and for the hybrid model we will need to recreate the train and test datasets later since we need to create a subset of movies-users-ratings which have movie text descriptions."
   ]
  },
  {
   "cell_type": "markdown",
   "metadata": {
    "colab_type": "text",
    "id": "G7LX0sob7a2Z"
   },
   "source": [
    "## Create Train and Test datasets"
   ]
  },
  {
   "cell_type": "code",
   "execution_count": null,
   "metadata": {
    "colab": {
     "base_uri": "https://localhost:8080/",
     "height": 34
    },
    "colab_type": "code",
    "id": "cyCrLAoFFHm4",
    "outputId": "e39e4020-3e5f-4ed7-803a-a8761ddce792"
   },
   "outputs": [],
   "source": [
    "# Shuffle DataFrame\n",
    "df_filtered = df_filtered.drop('Date', axis=1).sample(frac=1).reset_index(drop=True)\n",
    "\n",
    "# Testingsize\n",
    "n = 100000\n",
    "\n",
    "# Split train- & testset\n",
    "df_train = df_filtered[:-n]\n",
    "df_test = df_filtered[-n:]\n",
    "df_train.shape, df_test.shape"
   ]
  },
  {
   "cell_type": "markdown",
   "metadata": {
    "colab_type": "text",
    "id": "JjQjPE9-76iP"
   },
   "source": [
    "The train set will be used to train all models and the test set ensures we can compare model performance on unseen data using the RMSE metric."
   ]
  },
  {
   "cell_type": "markdown",
   "metadata": {
    "colab_type": "text",
    "id": "ufn47cGh_wNC"
   },
   "source": [
    "# 7. Transformation"
   ]
  },
  {
   "cell_type": "markdown",
   "metadata": {
    "colab_type": "text",
    "id": "mWkzhX-a792R"
   },
   "source": [
    "### Q 7.1: Transform The User-Movie-Ratings Data Frame to User-Movie Matrix"
   ]
  },
  {
   "cell_type": "markdown",
   "metadata": {
    "colab_type": "text",
    "id": "qDeuv70i8NMQ"
   },
   "source": [
    "A large, sparse matrix will be created in this step. Each row will represent a user and its ratings and the columns are the movies.\n",
    "\n",
    "The movies already rated by users are the non-empty values in the matrix.\n",
    "\n",
    "Empty values are unrated movies and the main objective is to estimate the empty values to help our users.\n",
    "\n",
    "\n",
    "__Your turn:__ Create the User-Movie matrix leveraging the __`pivot_table()`__ function from pandas.\n",
    "\n",
    "Fill in the blanks in the code below by referencing the __`pivot_table()`__ function and invoking it on __`df_train`__. Feel free to check out the documentation.\n",
    "\n",
    "Remember, rows should be users, columns should be movies and the values in the matrix should be the movie ratings. All these should be available in the __`df_train`__ dataframe."
   ]
  },
  {
   "cell_type": "code",
   "execution_count": null,
   "metadata": {
    "colab": {
     "base_uri": "https://localhost:8080/",
     "height": 438
    },
    "colab_type": "code",
    "id": "_ieAea92FJye",
    "outputId": "7a2dd65d-1af9-4300-c811-1f1d3f8e8f05"
   },
   "outputs": [],
   "source": [
    "# Create a user-movie matrix with empty values\n",
    "df_p = <YOUR CODE HERE>\n",
    "print('Shape User-Movie-Matrix:\\t{}'.format(df_p.shape))\n",
    "df_p.head(10)"
   ]
  },
  {
   "cell_type": "markdown",
   "metadata": {
    "colab_type": "text",
    "id": "ojO2T5Ti_4TG"
   },
   "source": [
    "## 8. Building Recommendation Systems"
   ]
  },
  {
   "cell_type": "markdown",
   "metadata": {
    "colab_type": "text",
    "id": "cOrqqL3KDn9L"
   },
   "source": [
    "## 8.1(a): Global Recommendation Systems (Mean Rating)\n",
    "\n",
    "Computing the mean rating for all movies creates a ranking. The recommendation will be the same for all users and can be used if there is no information on the user.\n",
    "Variations of this approach can be separate rankings for each country/year/gender/... and to use them individually to recommend movies/items to the user.\n",
    "\n",
    "It has to be noted that this approach is biased and favours movies with fewer ratings, since large numbers of ratings tend to be less extreme in its mean ratings."
   ]
  },
  {
   "cell_type": "markdown",
   "metadata": {
    "colab_type": "text",
    "id": "zlIuNnXxONlb"
   },
   "source": [
    "### Additional Hint\n",
    "\n",
    "Predict model performance: [mean_squared_error](https://scikit-learn.org/stable/modules/generated/sklearn.metrics.mean_squared_error.html)"
   ]
  },
  {
   "cell_type": "code",
   "execution_count": null,
   "metadata": {
    "colab": {
     "base_uri": "https://localhost:8080/",
     "height": 225
    },
    "colab_type": "code",
    "id": "spUQbaIz24Fo",
    "outputId": "0bb9b792-e2af-45a3-994c-ed167f0e75fd"
   },
   "outputs": [],
   "source": [
    "# Compute mean rating for all movies\n",
    "ratings_mean = df_p.mean(axis=0).sort_values(ascending=False).rename('Rating-Mean').to_frame()\n",
    "\n",
    "# Compute rating frequencies for all movies\n",
    "ratings_count = df_p.count(axis=0).rename('Rating-Freq').to_frame()\n",
    "\n",
    "# Combine the aggregated dataframes\n",
    "combined_df = ratings_mean.join(ratings_count).join(movie_titles)\n",
    "combined_df.head(5)"
   ]
  },
  {
   "cell_type": "code",
   "execution_count": null,
   "metadata": {
    "colab": {
     "base_uri": "https://localhost:8080/",
     "height": 225
    },
    "colab_type": "code",
    "id": "vf66eVE_24Fq",
    "outputId": "21cc00bc-6df3-4e96-cf2b-142b317f565a"
   },
   "outputs": [],
   "source": [
    "# Join labels and predictions based on mean movie rating\n",
    "predictions_df = df_test.set_index('Movie').join(ratings_mean)\n",
    "predictions_df.head(5)"
   ]
  },
  {
   "cell_type": "code",
   "execution_count": null,
   "metadata": {
    "colab": {
     "base_uri": "https://localhost:8080/",
     "height": 34
    },
    "colab_type": "code",
    "id": "9W2txAub24Fs",
    "outputId": "ef0d3bfd-859d-4596-a465-9b17504a1b65"
   },
   "outputs": [],
   "source": [
    "# Compute RMSE\n",
    "y_true = predictions_df['Rating']\n",
    "y_pred = predictions_df['Rating-Mean']\n",
    "\n",
    "rmse = np.sqrt(mean_squared_error(y_true=y_true, y_pred=y_pred))\n",
    "print(\"The RMSE Value for the Mean Rating Recommender:\", rmse)"
   ]
  },
  {
   "cell_type": "code",
   "execution_count": null,
   "metadata": {
    "colab": {
     "base_uri": "https://localhost:8080/",
     "height": 373
    },
    "colab_type": "code",
    "id": "xda52K1m24Fu",
    "outputId": "a537ffcc-dc45-458b-9d2c-b0ed262d3103"
   },
   "outputs": [],
   "source": [
    "# View top ten rated movies\n",
    "combined_df[['Name', 'Rating-Mean']].head(10)"
   ]
  },
  {
   "cell_type": "markdown",
   "metadata": {
    "colab_type": "text",
    "id": "iFalvivYD1Is"
   },
   "source": [
    "## Q 8.1(b): Global Recommendation Systems (Weighted Rating)\n",
    "\n",
    "To tackle the problem of the unstable mean with few ratings e.g. IDMb uses a weighted rating. Many good ratings outweigh few in this algorithm.\n",
    "\n",
    "### Hint:\n",
    "\n",
    "Weighted Rating Formula\n",
    "\n",
    "weighted rating (𝑊𝑅)=(𝑣/(𝑣+𝑚))𝑅+(𝑚/(𝑣+𝑚))𝐶\n",
    "\n",
    "where:\n",
    "\n",
    "*𝑅* = average for the movie (mean) = (Rating)\n",
    "\n",
    "*𝑣* = number of votes for the movie = (votes)\n",
    "\n",
    "*𝑚* = minimum votes required \n",
    "\n",
    "*𝐶* = the mean vote across the whole report \n",
    "\n",
    "__Your Turn:__ Fill in the necessary code snippets below to build and test the model\n"
   ]
  },
  {
   "cell_type": "code",
   "execution_count": null,
   "metadata": {
    "colab": {},
    "colab_type": "code",
    "id": "GVfj7TPz24Fz"
   },
   "outputs": [],
   "source": [
    "# Number of minimum votes to be considered\n",
    "m = 1000\n",
    "\n",
    "# Mean rating for all movies\n",
    "C = df_p.stack().mean()\n",
    "\n",
    "# Mean rating for all movies separately\n",
    "R = df_p.mean(axis=0).values\n",
    "\n",
    "# Rating freqency for all movies separately\n",
    "v = df_p.count().values"
   ]
  },
  {
   "cell_type": "code",
   "execution_count": null,
   "metadata": {
    "colab": {},
    "colab_type": "code",
    "id": "Ntm_D7Yl24F1"
   },
   "outputs": [],
   "source": [
    "# Weighted formula to compute the weighted rating\n",
    "weighted_score = <YOUR CODE HERE>"
   ]
  },
  {
   "cell_type": "code",
   "execution_count": null,
   "metadata": {
    "colab": {
     "base_uri": "https://localhost:8080/",
     "height": 225
    },
    "colab_type": "code",
    "id": "YQe4smBk24F3",
    "outputId": "4d1e39ef-72ef-414a-a235-8d0883aa9e00"
   },
   "outputs": [],
   "source": [
    "# convert weighted_score into a dataframe\n",
    "weighted_mean = <YOUR CODE HERE>\n",
    "\n",
    "# Combine the aggregated dataframes (wighted_mean & movie_titles)\n",
    "combined_df = <YOUR CODE HERE>\n",
    "combined_df.head(5)"
   ]
  },
  {
   "cell_type": "code",
   "execution_count": null,
   "metadata": {
    "colab": {
     "base_uri": "https://localhost:8080/",
     "height": 225
    },
    "colab_type": "code",
    "id": "jMd68xuj24F5",
    "outputId": "948409a5-b235-4892-912a-3ec8b70f841d"
   },
   "outputs": [],
   "source": [
    "# Join labels and predictions based on mean movie rating\n",
    "predictions_df = <YOUR CODE HERE>\n",
    "predictions_df.head(5)"
   ]
  },
  {
   "cell_type": "code",
   "execution_count": null,
   "metadata": {
    "colab": {
     "base_uri": "https://localhost:8080/",
     "height": 34
    },
    "colab_type": "code",
    "id": "HdCxHIO424F8",
    "outputId": "e8369ec9-e022-4b66-cd55-256ee1f5ff62"
   },
   "outputs": [],
   "source": [
    "# Compute RMSE\n",
    "y_true = <YOUR CODE HERE>\n",
    "y_pred = <YOUR CODE HERE>\n",
    "\n",
    "rmse = <YOUR CODE HERE>\n",
    "print(\"The RMSE Value for the Weighted-Mean Rating Recommender:\", rmse)"
   ]
  },
  {
   "cell_type": "code",
   "execution_count": null,
   "metadata": {
    "colab": {
     "base_uri": "https://localhost:8080/",
     "height": 373
    },
    "colab_type": "code",
    "id": "gt1Q5Mh124F-",
    "outputId": "1e61eb00-d5a9-4265-9b80-579b21be655c"
   },
   "outputs": [],
   "source": [
    "# View top ten rated movies\n",
    "<YOUR CODE HERE>"
   ]
  },
  {
   "cell_type": "markdown",
   "metadata": {
    "colab_type": "text",
    "id": "SXa7l21yE-eY"
   },
   "source": [
    "The variable \"m\" can be seen as regularizing parameter. Changing it determines how much weight is put onto the movies with many ratings.\n",
    "Even if there is a better ranking the RMSE decreased slightly. There is a trade-off between interpretability and predictive power."
   ]
  },
  {
   "cell_type": "markdown",
   "metadata": {
    "colab_type": "text",
    "id": "0KRZO1u_24GB"
   },
   "source": [
    "## 8.2: Content Based Recommendation Systems\n",
    "\n",
    "\n",
    "The Content-Based Recommender relies on the similarity of the items being recommended. The basic idea is that if you like an item, then you will also like a “similar” item. It generally works well when it’s easy to determine the context/properties of each item. If there is no historical data for a user or there is reliable metadata for each movie, it can be useful to compare the metadata of the movies to find similar ones.\n",
    "\n",
    "![](./images/Content-based.png)"
   ]
  },
  {
   "cell_type": "markdown",
   "metadata": {
    "colab_type": "text",
    "id": "5WovG-3YFSqo"
   },
   "source": [
    "### Cosine TFIDF Movie Description Similarity"
   ]
  },
  {
   "cell_type": "markdown",
   "metadata": {
    "colab_type": "text",
    "id": "eldw_9lpNfUJ"
   },
   "source": [
    "#### TF-IDF \n",
    "\n",
    "This is a text vectorization technique which is used to determine the relative importance of a document / article / news item / movie etc.\n",
    "\n",
    "TF is simply the frequency of a word in a document. \n",
    "\n",
    "IDF is the inverse of the document frequency among the whole corpus of documents. \n",
    "\n",
    "TF-IDF is used mainly because of two reasons: Suppose we search for “the results of latest European Socccer games” on Google. It is certain that “the” will occur more frequently than “soccer games” but the relative importance of soccer games is higher than the search query point of view. \n",
    "\n",
    "In such cases, TF-IDF weighting negates the effect of high frequency words in determining the importance of an item (document).\n",
    "\n",
    "![](./images/TF-IDF-FORMULA.png)\n"
   ]
  },
  {
   "cell_type": "markdown",
   "metadata": {
    "colab_type": "text",
    "id": "Trb9DlZxOYGO"
   },
   "source": [
    "#### Cosine Similarity \n",
    "After calculating TF-IDF scores, how do we determine which items are closer to each other, rather closer to the user profile? This is accomplished using the Vector Space Model which computes the proximity based on the angle between the vectors.\n",
    "\n",
    "Consider the following example\n",
    "\n",
    "![](./images/vector-space-model.png)\n",
    "\n",
    "Sentence 2 is more likely to be using Term 2 than using Term 1. Vice-versa for Sentence 1. \n",
    "\n",
    "The method of calculating this relative measure is calculated by taking the cosine of the angle between the sentences and the terms. \n",
    "\n",
    "The ultimate reason behind using cosine is that the value of cosine will increase with decreasing value of the angle between which signifies more similarity. \n",
    "\n",
    "The vectors are length normalized after which they become vectors of length 1 and then the cosine calculation is simply the sum-product of vectors."
   ]
  },
  {
   "cell_type": "markdown",
   "metadata": {
    "colab_type": "text",
    "id": "4Cm9mjG-PSr3"
   },
   "source": [
    "In this approch we will use the movie description to create a TFIDF-matrix, which counts and weights words in all descriptions, and compute a cosine similarity between all of those sparse text-vectors. This can easily be extended to more or different features if you like.\n",
    "It is impossible for this model to compute a RMSE score, since the model does not recommend the movies directly.\n",
    "In this way it is possible to find movies closly related to each other.\n",
    "\n",
    "This approach of content based filtering can be extendend to increase the model performance by adding some more features like genres, cast, crew etc."
   ]
  },
  {
   "cell_type": "code",
   "execution_count": null,
   "metadata": {
    "colab": {
     "base_uri": "https://localhost:8080/",
     "height": 134
    },
    "colab_type": "code",
    "id": "AdEeBvSf24GE",
    "outputId": "6dfc4ef6-f4b3-45d3-e6b1-35e2132a2375"
   },
   "outputs": [],
   "source": [
    "# view sample movie descriptions\n",
    "movie_metadata['overview'].head(5)"
   ]
  },
  {
   "cell_type": "code",
   "execution_count": null,
   "metadata": {
    "colab": {},
    "colab_type": "code",
    "id": "DiiwYdQj24GG"
   },
   "outputs": [],
   "source": [
    "# Create tf-idf matrix for text comparison\n",
    "tfidf = TfidfVectorizer(stop_words='english')\n",
    "tfidf_matrix = tfidf.fit_transform(movie_metadata['overview'])"
   ]
  },
  {
   "cell_type": "code",
   "execution_count": null,
   "metadata": {
    "colab": {
     "base_uri": "https://localhost:8080/",
     "height": 560
    },
    "colab_type": "code",
    "id": "VU3Kr_OJ24GK",
    "outputId": "b6224e65-ad8d-4634-a896-c5f9676f7a00"
   },
   "outputs": [],
   "source": [
    "# Compute cosine similarity between all movie-descriptions\n",
    "similarity = cosine_similarity(tfidf_matrix)\n",
    "similarity_df = pd.DataFrame(similarity, \n",
    "                             index=movie_metadata.index.values, \n",
    "                             columns=movie_metadata.index.values)\n",
    "similarity_df.head(10)"
   ]
  },
  {
   "cell_type": "code",
   "execution_count": null,
   "metadata": {
    "colab": {
     "base_uri": "https://localhost:8080/",
     "height": 151
    },
    "colab_type": "code",
    "id": "Tm2sEuOs24GN",
    "outputId": "8d53fd80-f9cd-40bf-8446-e4d5651eac9e"
   },
   "outputs": [],
   "source": [
    "# movie list \n",
    "movie_list = similarity_df.columns.values\n",
    "\n",
    "\n",
    "# sample movie\n",
    "movie = 'Batman Begins'\n",
    "\n",
    "# top recommendation movie count\n",
    "top_n = 10\n",
    "\n",
    "# get movie similarity records\n",
    "movie_sim = similarity_df[similarity_df.index == movie].values[0]\n",
    "\n",
    "# get movies sorted by similarity\n",
    "sorted_movie_ids = np.argsort(movie_sim)[::-1]\n",
    "\n",
    "# get recommended movie names\n",
    "recommended_movies = movie_list[sorted_movie_ids[1:top_n+1]]\n",
    "\n",
    "print('\\n\\nTop Recommended Movies for:', movie, 'are:-\\n', recommended_movies)"
   ]
  },
  {
   "cell_type": "markdown",
   "metadata": {
    "colab_type": "text",
    "id": "50vzONVBqkTu"
   },
   "source": [
    "__Your turn:__ Create a function as defined below, __`content_movie_recommender()`__ which can take in sample movie names and print a list of top N recommended movies"
   ]
  },
  {
   "cell_type": "code",
   "execution_count": null,
   "metadata": {
    "colab": {},
    "colab_type": "code",
    "id": "t5cyFCvp24GT"
   },
   "outputs": [],
   "source": [
    "def content_movie_recommender(input_movie, similarity_database=similarity_df, movie_database_list=movie_list, top_n=10):\n",
    "    \n",
    "    <YOUR CODE HERE>"
   ]
  },
  {
   "cell_type": "markdown",
   "metadata": {
    "colab_type": "text",
    "id": "gR0sKcxIqxql"
   },
   "source": [
    "__Your turn:__ Test your function below on the given sample movies"
   ]
  },
  {
   "cell_type": "code",
   "execution_count": null,
   "metadata": {
    "colab": {
     "base_uri": "https://localhost:8080/",
     "height": 571
    },
    "colab_type": "code",
    "id": "L0tUINS_24GV",
    "outputId": "f08f8eba-2b5e-41af-f0df-ad80821019a1"
   },
   "outputs": [],
   "source": [
    "sample_movies = ['Captain America', 'The Terminator', 'The Exorcist', \n",
    "                 'The Hunger Games: Mockingjay - Part 1', 'The Blair Witch Project']\n",
    "                 \n",
    "<YOUR CODE HERE>"
   ]
  },
  {
   "cell_type": "markdown",
   "metadata": {
    "colab_type": "text",
    "id": "r3fofy8frA2k"
   },
   "source": [
    "## 8.3: Collaborative filtering Recommendation Systems"
   ]
  },
  {
   "cell_type": "markdown",
   "metadata": {
    "colab_type": "text",
    "id": "j9Su_sBArKWX"
   },
   "source": [
    "### Collaborative Filtering\n",
    "Primarily recommends content to you based on inputs or actions from other people(say your friends).\n",
    "![collaborative filtering](./images/collaborative-filtering.png)\n",
    "\n"
   ]
  },
  {
   "cell_type": "markdown",
   "metadata": {
    "colab_type": "text",
    "id": "YxRJfswzrN5A"
   },
   "source": [
    "### What is the intuition behind this?\n",
    "\n",
    "*   **Personal tastes are correlated**\n",
    "\n",
    "\n",
    "        1.   If Alice and Bob both like X and Alice likes Y then Bob is more likely to like Y\n",
    "        2.   especially (perhaps) if Bob knows Alice"
   ]
  },
  {
   "cell_type": "markdown",
   "metadata": {
    "colab_type": "text",
    "id": "TUoI6lh6rSlG"
   },
   "source": [
    "Types of Collaborative Filtering:\n",
    "\n",
    "\n",
    "1.   Neighborhood methods\n",
    "2.   Matrix Factorization (Latent Factor) methods\n",
    "\n"
   ]
  },
  {
   "cell_type": "markdown",
   "metadata": {
    "colab_type": "text",
    "id": "23PnmU-FraW8"
   },
   "source": [
    "Assume you dont have users. Rather you have users' characterisics and properties(as shown in image).![Latent Factor method](https://miro.medium.com/max/876/1*AQEx38Wdo5H0WTSjRfAWtA.png)\n",
    "\n",
    "For example, a person who is brave-hearted is more likely to be interested in dark, horrific movies rather than someone who is soft and compassionate.\n",
    "* ^This is just an example(not in any literal sense)"
   ]
  },
  {
   "cell_type": "markdown",
   "metadata": {
    "colab_type": "text",
    "id": "fidNZWZXrdmt"
   },
   "source": [
    "So, once you have the properties and characteristics of each user, we call them as lower-dimensional features of the users. Similarly, we can have lower-dimensional features for movies(say its 10% action, 20% romance ...)\n",
    "\n",
    "With these features, we represent users and movies in a low dimensional space describing their properties. **This is called as the latent space.**\n",
    "\n",
    "We then recommend a movie based on its proximity to the user in the latent space."
   ]
  },
  {
   "cell_type": "markdown",
   "metadata": {
    "colab_type": "text",
    "id": "InGsgab1rhVT"
   },
   "source": [
    "### The problem:\n",
    "\n",
    "The problem we try to address here is the rating prediction problem. \n",
    "Say, we try to guess how much Alice would rate a movie and suggest those movies that we think Alice will rate higher."
   ]
  },
  {
   "cell_type": "markdown",
   "metadata": {
    "colab_type": "text",
    "id": "NUDZRCzhrijy"
   },
   "source": [
    "### Interesting...But, how do we predict how much Alice would rate a movie?\n",
    "\n",
    " The data we have is a rating history: ratings of users for items in the interval [1,5]. We can put all this data into a sparse matrix called R:\n",
    " \n",
    " $R = \n",
    " \\begin{pmatrix}\n",
    "  3 & ? &? \\\\ \n",
    "  ? & 4 & 5 \\\\\n",
    "  ? & ? & 2 \\\\\n",
    "  2 & 3 & ?\n",
    " \\end{pmatrix}\n",
    " \\begin{matrix}\n",
    "  Alice \\\\ \n",
    "  Bob \\\\\n",
    "  Chand \\\\\n",
    "  Deb\n",
    " \\end{matrix}\n",
    " $\n",
    "\n",
    " Each row of the matrix corresponds to a given user, and each column corresponds to a given item. For instance here, Alice has rated the first movie with a rating of 3, and Chand has rated the third item with a rating of 2.\n",
    "\n",
    " The matrix R is sparse (more than 99% of the entries are missing), and our goal is to predict the missing entries, i.e. predict the ?.\n"
   ]
  },
  {
   "cell_type": "markdown",
   "metadata": {
    "colab_type": "text",
    "id": "i_MeURMvrniQ"
   },
   "source": [
    "### Anatomy of the Rating matrix: LATENT SPACE\n",
    "Before predicting ratings, lets step back and understand the latent space more! \\\\\n",
    " In this Rating matrix, Rows represent Users and Columns represent Movies.\n",
    " $R = \n",
    "  \\begin{pmatrix}\n",
    "  --Alice-- \\\\ \n",
    "  --Bob-- \\\\\n",
    "  --Chand-- \\\\\n",
    "  --Deb--\n",
    " \\end{pmatrix}\n",
    " $\n",
    "\n",
    " In latent space(low dimensional features - fanatics), for instance, Alice could be defined as a little bit of an action fan, a little bit of a comedy fan, a lot of a romance fan, etc. As for Bob, he could be more keen on action movies:\n",
    "\n",
    "```\n",
    "Alice = 10% Action fan + 10% Comedy fan + 50% Romance fan + ⋯ \\\\\n",
    "Bob = 50% Action fan + 30% Comedy fan + 10% Romance fan + ⋯ \\\\\n",
    ": \\\\\n",
    "Zoe = ⋯\n",
    "```\n",
    "\n",
    "What would happen if we transposed our rating matrix? Instead of having users in the rows, we would now have movies, defined as their ratings.\n",
    "\n",
    "$\n",
    "R ^ T = \n",
    "  \\begin{pmatrix}\n",
    "  --Avengers-- \\\\ \n",
    "  --Matrix-- \\\\\n",
    "  --Inception-- \\\\\n",
    "  --Sherlock--\n",
    " \\end{pmatrix}\n",
    "$\n",
    "\n",
    "In the latent space, we will associate a semantic meaning behind each of the  movies, and these semantic meanings(say movie characteristics) can build back all of our original movies."
   ]
  },
  {
   "cell_type": "markdown",
   "metadata": {
    "colab_type": "text",
    "id": "vZ_r91x1rr65"
   },
   "source": [
    "### EXAMPLE\n",
    "In the below example, we convert users and movies to vectors(embeddings) and do dot-product to predict R\n",
    "\n",
    "user vector - U \\\\\n",
    "movies vector - V \\\\\n",
    "$\n",
    "R = U.V\n",
    "$"
   ]
  },
  {
   "cell_type": "markdown",
   "metadata": {
    "colab_type": "text",
    "id": "_Ynl-aVuf3Dy"
   },
   "source": [
    "### Additional hints:\n",
    "\n",
    "use dataframe map - [map](https://pandas.pydata.org/pandas-docs/stable/reference/api/pandas.Series.map.html)\n",
    "\n",
    "Create tensor - [Input](https://www.tensorflow.org/api_docs/python/tf/keras/Input#view-aliases)\n",
    "\n",
    "Create Embedding - [Embedding](https://www.tensorflow.org/api_docs/python/tf/keras/layers/Embedding)\n",
    "\n",
    "Dot product - [Dot](https://www.tensorflow.org/api_docs/python/tf/keras/layers/Dot)\n",
    "\n",
    "Fit model : \n",
    "[fit](https://www.tensorflow.org/api_docs/python/tf/keras/Model#fit)\n",
    "\n",
    "Measure Performance: [mean_squared_error](https://scikit-learn.org/stable/modules/generated/sklearn.metrics.mean_squared_error.html)"
   ]
  },
  {
   "cell_type": "markdown",
   "metadata": {
    "colab_type": "text",
    "id": "wpPZfOrDs-Qs"
   },
   "source": [
    "### Q8.3: Building a Deep Learning Matrix Factorization based Collaborative Filtering Recommendation System\n",
    "\n",
    "__Your Turn:__ Fill in the necessary blank code snippets in the following sections to train your own DL collaborative  filtering system\n",
    "\n",
    "#### Create Configuration Parameters"
   ]
  },
  {
   "cell_type": "code",
   "execution_count": null,
   "metadata": {
    "colab": {},
    "colab_type": "code",
    "id": "AUz12Y_Z24Gh"
   },
   "outputs": [],
   "source": [
    "# Create user and movie-id mapping to convert to numbers\n",
    "user_id_mapping = {id:i for i, id in enumerate(df_filtered['User'].unique())}\n",
    "movie_id_mapping = {id:i for i, id in enumerate(df_filtered['Movie'].unique())}"
   ]
  },
  {
   "cell_type": "code",
   "execution_count": null,
   "metadata": {
    "colab": {},
    "colab_type": "code",
    "id": "4vjVBUM724Gj"
   },
   "outputs": [],
   "source": [
    "# use dataframe map function to map users & movies to mapped ids based on above mapping\n",
    "train_user_data = df_train['User'].map(user_id_mapping)\n",
    "train_movie_data = df_train['Movie'].map(movie_id_mapping)"
   ]
  },
  {
   "cell_type": "code",
   "execution_count": null,
   "metadata": {
    "colab": {},
    "colab_type": "code",
    "id": "_lpKylKD24Gl"
   },
   "outputs": [],
   "source": [
    "# do the same for test data\n",
    "test_user_data = <YOUR CODE HERE>\n",
    "test_movie_data = <YOUR CODE HERE>"
   ]
  },
  {
   "cell_type": "code",
   "execution_count": null,
   "metadata": {
    "colab": {},
    "colab_type": "code",
    "id": "GME8vJLp24Gn"
   },
   "outputs": [],
   "source": [
    "# Get input variable-sizes\n",
    "users = len(user_id_mapping)\n",
    "movies = len(movie_id_mapping)\n",
    "embedding_size = 100"
   ]
  },
  {
   "cell_type": "markdown",
   "metadata": {
    "colab_type": "text",
    "id": "enO8VNVP24Gp"
   },
   "source": [
    "#### Construct Deep Learning Model Architecture"
   ]
  },
  {
   "cell_type": "code",
   "execution_count": null,
   "metadata": {
    "colab": {},
    "colab_type": "code",
    "id": "GSXpYgst24Gq"
   },
   "outputs": [],
   "source": [
    "# use Input() to create tensors for - 'user' and 'movie'\n",
    "user_id_input = Input(shape=(1,), name='user')\n",
    "movie_id_input = <YOUR CODE HERE>"
   ]
  },
  {
   "cell_type": "code",
   "execution_count": null,
   "metadata": {
    "colab": {},
    "colab_type": "code",
    "id": "gdV4lJri24Gs"
   },
   "outputs": [],
   "source": [
    "# Create embedding layer for users \n",
    "user_embedding = Embedding(output_dim=embedding_size, \n",
    "                           input_dim=users,\n",
    "                           input_length=1, \n",
    "                           name='user_embedding')(user_id_input)\n",
    "\n",
    "# create embedding layer for movies just like users\n",
    "movie_embedding = <YOUR CODE HERE>"
   ]
  },
  {
   "cell_type": "code",
   "execution_count": null,
   "metadata": {
    "colab": {},
    "colab_type": "code",
    "id": "cLpdb0pu24Gu"
   },
   "outputs": [],
   "source": [
    "# Reshape the embedding layers\n",
    "user_vector = Reshape([embedding_size])(user_embedding)\n",
    "movie_vector = <YOUR CODE HERE>"
   ]
  },
  {
   "cell_type": "code",
   "execution_count": null,
   "metadata": {
    "colab": {},
    "colab_type": "code",
    "id": "S-RxXy5B24Gw"
   },
   "outputs": [],
   "source": [
    "# Compute dot-product of reshaped embedding layers as prediction\n",
    "y = Dot(1, normalize=False)([user_vector, movie_vector])"
   ]
  },
  {
   "cell_type": "code",
   "execution_count": null,
   "metadata": {
    "colab": {
     "base_uri": "https://localhost:8080/",
     "height": 403
    },
    "colab_type": "code",
    "id": "5wWeeSfR24Gy",
    "outputId": "cc2f5e4d-e795-4514-9bf1-804cab954ff3"
   },
   "outputs": [],
   "source": [
    "# Setup model\n",
    "model = Model(inputs=[user_id_input, movie_id_input], outputs=y)\n",
    "model.compile(loss='mse', optimizer='adam')\n",
    "model.summary()"
   ]
  },
  {
   "cell_type": "markdown",
   "metadata": {
    "colab_type": "text",
    "id": "g0COamq25owq"
   },
   "source": [
    "#### Train and Test the Model"
   ]
  },
  {
   "cell_type": "code",
   "execution_count": null,
   "metadata": {
    "colab": {
     "base_uri": "https://localhost:8080/",
     "height": 218
    },
    "colab_type": "code",
    "id": "nK6aBtQN24Gz",
    "outputId": "7c729304-f1aa-4e8d-a3e6-aa4a82ebfd0e"
   },
   "outputs": [],
   "source": [
    "# Fit model\n",
    "X = [train_user_data, train_movie_data]\n",
    "y = df_train['Rating']\n",
    "\n",
    "batch_size = 1024\n",
    "epochs = 5\n",
    "validation_split = 0.1\n",
    "\n",
    "model.fit(X, y,\n",
    "          batch_size=batch_size, \n",
    "          epochs=epochs,\n",
    "          validation_split=validation_split,\n",
    "          shuffle=True,\n",
    "          verbose=1)"
   ]
  },
  {
   "cell_type": "code",
   "execution_count": null,
   "metadata": {
    "colab": {
     "base_uri": "https://localhost:8080/",
     "height": 67
    },
    "colab_type": "code",
    "id": "RZLw4PX3AUkz",
    "outputId": "36987db3-b604-400f-e419-79a61f602ef1"
   },
   "outputs": [],
   "source": [
    "# Test model by making predictions on test data\n",
    "y_pred = model.predict([test_user_data, test_movie_data]).ravel()\n",
    "# clip upper and lower ratings\n",
    "y_pred = list(map(lambda x: 1.0 if x < 1 else 5.0 if x > 5.0 else x, y_pred))\n",
    "# get true labels\n",
    "y_true = df_test['Rating'].values\n",
    "\n",
    "#  Compute RMSE\n",
    "rmse = np.sqrt(mean_squared_error(y_pred=y_pred, y_true=y_true))\n",
    "print('\\n\\nTesting Result With DL Matrix-Factorization: {:.4f} RMSE'.format(rmse))"
   ]
  },
  {
   "cell_type": "code",
   "execution_count": null,
   "metadata": {
    "colab": {
     "base_uri": "https://localhost:8080/",
     "height": 639
    },
    "colab_type": "code",
    "id": "oAX4MABlCm-9",
    "outputId": "e041f405-8fe7-46ce-bcb1-d83de061de7f"
   },
   "outputs": [],
   "source": [
    "## Let's see how our collaborative model performs by seeing the predicted and actual rating for the given user and movie pair\n",
    "results_df = pd.DataFrame({\n",
    "    'User ID': test_user_data.values,\n",
    "    'Movie ID': test_movie_data.values,\n",
    "    'Movie Name': [movie_titles['Name'].iloc[item] for item in test_movie_data],\n",
    "    'Predicted Rating': np.round(y_pred, 1),\n",
    "    'Actual Rating': y_true\n",
    "})\n",
    "\n",
    "results_df.head(20)"
   ]
  },
  {
   "cell_type": "markdown",
   "metadata": {
    "colab_type": "text",
    "id": "Gaq-sJqpc_B_"
   },
   "source": [
    "## 8.4: Hybrid Recommendation System (Content & Collaborative)\n",
    "\n",
    "One advantage of deep learning models is, that movie-metadata can easily be added to the model.\n",
    "We will tf-idf transform the short description of all movies to a sparse vector. The model will learn to reduce the dimensionality of this vector and how to combine metadata with the embedding of the user-id and the movie-id. In this way we can add any additional metadata to our own recommender.\n",
    "These kind of hybrid systems can learn how to reduce the impact of the cold start problem.\n",
    "\n",
    "Deep learning models require lots of data to train and predict. To provide our model with more data, we will include the movie metadata as well. We will do the following:\n",
    "\n",
    "\n",
    "*   Use movie metadata to combine with user and movie matrices in order to get more data\n",
    "*   Use tf-idf transform to vectorize movie metadata (Sparse Layer)\n",
    "*   Create an embedding of the metadata 512 -> 256 \n",
    "*   Combine all embeddings for movie tf-idf vectors, user and ratings to arrive at a common embedding space (256 sized embeddings per entity)\n",
    "*   Use the embeddings to train the model and get predictions on the test data\n",
    "\n",
    "\n",
    "\n",
    "\n",
    "\n"
   ]
  },
  {
   "cell_type": "markdown",
   "metadata": {
    "colab_type": "text",
    "id": "gw7fwxvQc4DV"
   },
   "source": [
    "### Additional Hints:\n",
    "\n",
    "Dense layer setup :\n",
    "[Dense](https://www.tensorflow.org/api_docs/python/tf/keras/layers/Dense#example_2)\n",
    "\n",
    "Create model using tf.keras API : \n",
    "[Model](https://www.tensorflow.org/api_docs/python/tf/keras/Model#used-in-the-notebooks)\n",
    "\n",
    "Compile model using : [Compile](https://www.tensorflow.org/api_docs/python/tf/keras/Model#compile)\n",
    "\n",
    "Fit model : \n",
    "[fit](https://www.tensorflow.org/api_docs/python/tf/keras/Model#fit)\n",
    "\n",
    "Predict accuracy: [mean_squared_error](https://scikit-learn.org/stable/modules/generated/sklearn.metrics.mean_squared_error.html)\n",
    "\n"
   ]
  },
  {
   "cell_type": "markdown",
   "metadata": {
    "colab_type": "text",
    "id": "hINM6pCk3yKz"
   },
   "source": [
    "### Q8.3: Building a Deep Learning Hybrid Recommendation System\n",
    "\n",
    "We will be building the following hybrid deep learning recommendation model as scene in the following schematic.\n",
    "\n",
    "![](./images/hybrid-dl-model.png)\n",
    "\n",
    "__Your Turn:__ Fill in the necessary blank code snippets in the following sections to train your own DL hybrid recommendation system\n",
    "\n",
    "#### Create Configuration Parameters"
   ]
  },
  {
   "cell_type": "code",
   "execution_count": null,
   "metadata": {
    "colab": {},
    "colab_type": "code",
    "id": "QmOFI6gNZOYy"
   },
   "outputs": [],
   "source": [
    "# ceate a copy of the filtered data frame\n",
    "df_filtered_cp = df_filtered.copy(deep=True)"
   ]
  },
  {
   "cell_type": "code",
   "execution_count": null,
   "metadata": {
    "colab": {},
    "colab_type": "code",
    "id": "eknbQW6mHsKN"
   },
   "outputs": [],
   "source": [
    "# Create user- & movie-id mapping\n",
    "user_id_mapping = {id:i for i, id in enumerate(df_filtered_cp['User'].unique())}\n",
    "movie_id_mapping = {id:i for i, id in enumerate(df_filtered_cp['Movie'].unique())}"
   ]
  },
  {
   "cell_type": "code",
   "execution_count": null,
   "metadata": {
    "colab": {},
    "colab_type": "code",
    "id": "yLHTi2NsIEAM"
   },
   "outputs": [],
   "source": [
    "# use dataframe map function to map users & movies to mapped ids based on above mapping\n",
    "df_filtered_cp['User'] = df_filtered_cp['User'].map(user_id_mapping)\n",
    "df_filtered_cp['Movie'] = <YOUR CODE HERE>"
   ]
  },
  {
   "cell_type": "markdown",
   "metadata": {
    "colab_type": "text",
    "id": "fh1Bg5Q_38mF"
   },
   "source": [
    "#### Create Movie Description Dataset (Content)"
   ]
  },
  {
   "cell_type": "code",
   "execution_count": null,
   "metadata": {
    "colab": {
     "base_uri": "https://localhost:8080/",
     "height": 242
    },
    "colab_type": "code",
    "id": "CoAHPk1SIECT",
    "outputId": "341478ef-8e00-410d-dee3-ba3c79f4b409"
   },
   "outputs": [],
   "source": [
    "# Preprocess metadata\n",
    "tmp_metadata = movie_metadata.copy()\n",
    "tmp_metadata.index = tmp_metadata.index.str.lower()\n",
    "\n",
    "# Preprocess titles\n",
    "tmp_titles = movie_titles.drop('Year', axis=1).copy()\n",
    "tmp_titles = tmp_titles.reset_index().set_index('Name')\n",
    "tmp_titles.index = tmp_titles.index.str.lower()\n",
    "\n",
    "# Combine titles and metadata\n",
    "df_id_descriptions = tmp_titles.join(tmp_metadata).dropna().set_index('Id')\n",
    "df_id_descriptions['overview'] = df_id_descriptions['overview'].str.lower()\n",
    "#del tmp_metadata,tmp_titles\n",
    "print('Movie Description DF Shape:', df_id_descriptions.shape)\n",
    "df_id_descriptions.tail()"
   ]
  },
  {
   "cell_type": "markdown",
   "metadata": {
    "colab_type": "text",
    "id": "R7__gU8E44m-"
   },
   "source": [
    "#### Create User-Rating Filtered Dataset (Collaborative)\n",
    "\n",
    "Here we filter out movie-user-ratings where movies don't have descriptions (content)"
   ]
  },
  {
   "cell_type": "code",
   "execution_count": null,
   "metadata": {
    "colab": {
     "base_uri": "https://localhost:8080/",
     "height": 212
    },
    "colab_type": "code",
    "id": "w-NM3bV_JOG_",
    "outputId": "7a028ed8-0293-452b-ed54-e92acee43258"
   },
   "outputs": [],
   "source": [
    "df_hybrid = (df_filtered_cp.set_index('Movie')\n",
    "               .join(df_id_descriptions)\n",
    "               .dropna()\n",
    "               .drop('overview', axis=1)\n",
    "               .reset_index().rename({'index':'Movie'}, \n",
    "                                      axis=1))\n",
    "print('Movie-User-Rating DF Shape:', df_hybrid.shape)\n",
    "df_hybrid.head()"
   ]
  },
  {
   "cell_type": "code",
   "execution_count": null,
   "metadata": {
    "colab": {
     "base_uri": "https://localhost:8080/",
     "height": 34
    },
    "colab_type": "code",
    "id": "j7CHcKM_JOOw",
    "outputId": "e1378ad4-6a97-4fc3-9678-f131f7664686"
   },
   "outputs": [],
   "source": [
    "# Split train- & testset\n",
    "n = 300000\n",
    "df_hybrid = df_hybrid.sample(frac=1).reset_index(drop=True)\n",
    "df_hybrid_train = df_hybrid[:-n]\n",
    "df_hybrid_test = df_hybrid[-n:]\n",
    "df_hybrid_train.shape, df_hybrid_test.shape"
   ]
  },
  {
   "cell_type": "markdown",
   "metadata": {
    "colab_type": "text",
    "id": "k33OwrFO5RpF"
   },
   "source": [
    "#### Generate TFIDF Vectors for Train and Test Datasets (Movie Descriptions)"
   ]
  },
  {
   "cell_type": "code",
   "execution_count": null,
   "metadata": {
    "colab": {},
    "colab_type": "code",
    "id": "ZqiyhdelU775"
   },
   "outputs": [],
   "source": [
    "# Create tf-idf matrix for movie description vectors - HINT: check the overview column of df_id_description\n",
    "tfidf = <YOUR CODE HERE>\n",
    "tfidf_hybrid = tfidf.fit_transform(<YOUR CODE HERE>)"
   ]
  },
  {
   "cell_type": "code",
   "execution_count": null,
   "metadata": {
    "colab": {},
    "colab_type": "code",
    "id": "RgxZz-0wU7-C"
   },
   "outputs": [],
   "source": [
    "# Get mapping from movie-ids to indices in tfidf-matrix\n",
    "movie_idx_mapping = {id:i for i, id in enumerate(df_id_descriptions.index)}"
   ]
  },
  {
   "cell_type": "code",
   "execution_count": null,
   "metadata": {
    "colab": {
     "base_uri": "https://localhost:8080/",
     "height": 50
    },
    "colab_type": "code",
    "id": "HemfBsDqU8AL",
    "outputId": "065a5eb2-3920-4028-af05-e17bd0ee3137"
   },
   "outputs": [],
   "source": [
    "# get train data tfidf vectors\n",
    "train_tfidf = []\n",
    "\n",
    "# Iterate over all movie-ids and save the tfidf-vectors (sparse format for memory efficiency)\n",
    "for idx in tqdm(df_hybrid_train['Movie'].values):\n",
    "    index = movie_idx_mapping[idx]\n",
    "    train_tfidf.append(tfidf_hybrid[index])\n",
    "\n",
    "len(train_tfidf)"
   ]
  },
  {
   "cell_type": "code",
   "execution_count": null,
   "metadata": {
    "colab": {
     "base_uri": "https://localhost:8080/",
     "height": 50
    },
    "colab_type": "code",
    "id": "7AqgNsqrU8CZ",
    "outputId": "da454ca5-ae30-47cc-b865-4642069edb15"
   },
   "outputs": [],
   "source": [
    "# get test data tfidf vectors\n",
    "test_tfidf = []\n",
    "\n",
    "# Iterate over all movie-ids and save the tfidf-vectors (sparse format for memory efficiency)\n",
    "<YOUR CODE HERE>\n",
    "\n",
    "len(test_tfidf)"
   ]
  },
  {
   "cell_type": "code",
   "execution_count": null,
   "metadata": {
    "colab": {
     "base_uri": "https://localhost:8080/",
     "height": 34
    },
    "colab_type": "code",
    "id": "3dyKQnCNdQTc",
    "outputId": "bcf2ef13-850c-4de3-e04a-f9884a085431"
   },
   "outputs": [],
   "source": [
    "# Stack the sparse matrices\n",
    "train_tfidf = vstack(train_tfidf)\n",
    "test_tfidf = <YOUR CODE HERE>\n",
    "\n",
    "train_tfidf.shape, test_tfidf.shape"
   ]
  },
  {
   "cell_type": "code",
   "execution_count": null,
   "metadata": {
    "colab": {
     "base_uri": "https://localhost:8080/",
     "height": 34
    },
    "colab_type": "code",
    "id": "dMI3SxfNdwNQ",
    "outputId": "454e8563-c55e-4874-87b9-793441bdc431"
   },
   "outputs": [],
   "source": [
    "type(train_tfidf)"
   ]
  },
  {
   "cell_type": "markdown",
   "metadata": {
    "colab_type": "text",
    "id": "M4m5y7Zv5ZuK"
   },
   "source": [
    "This shows we are using sparse matrices to represent the vectors as dense vectors would typically give a out of memory error!"
   ]
  },
  {
   "cell_type": "markdown",
   "metadata": {
    "colab_type": "text",
    "id": "rCZjFT6JeIDs"
   },
   "source": [
    "#### Construct Deep Learning Model Architecture"
   ]
  },
  {
   "cell_type": "code",
   "execution_count": null,
   "metadata": {
    "colab": {},
    "colab_type": "code",
    "id": "y_WYqzMpeJby"
   },
   "outputs": [],
   "source": [
    "# setup NN parameters\n",
    "user_embed_dim = 256\n",
    "movie_embed_dim = 256\n",
    "userid_input_shape = 1\n",
    "movieid_input_shape = 1\n",
    "tfidf_input_shape = tfidf_hybrid.shape[1]"
   ]
  },
  {
   "cell_type": "code",
   "execution_count": null,
   "metadata": {
    "colab": {},
    "colab_type": "code",
    "id": "Ea74tynzeqGB"
   },
   "outputs": [],
   "source": [
    "# Create the input layers\n",
    "\n",
    "# user and movie input layers\n",
    "user_id_input = Input(shape=(userid_input_shape,), name='user')\n",
    "movie_id_input = <YOUR CODE HERE>\n",
    "\n",
    "# tfidf input layer\n",
    "tfidf_input = Input(shape=(tfidf_input_shape,), name='tfidf', sparse=True)"
   ]
  },
  {
   "cell_type": "code",
   "execution_count": null,
   "metadata": {
    "colab": {},
    "colab_type": "code",
    "id": "zc_bGQ6ne3Cj"
   },
   "outputs": [],
   "source": [
    "# Create embeddings layers for users and movies\n",
    "\n",
    "# user embedding\n",
    "user_embedding = Embedding(output_dim=user_embed_dim,\n",
    "                           input_dim=len(user_id_mapping),\n",
    "                           input_length=userid_input_shape,\n",
    "                           name='user_embedding')(user_id_input)\n",
    "\n",
    "# movie embedding\n",
    "movie_embedding = <YOUR CODE HERE>"
   ]
  },
  {
   "cell_type": "code",
   "execution_count": null,
   "metadata": {
    "colab": {},
    "colab_type": "code",
    "id": "pm_H8CaXe3Gn"
   },
   "outputs": [],
   "source": [
    "# Dimensionality reduction with Dense layers\n",
    "tfidf_vectors = Dense(512, activation='relu')(tfidf_input)\n",
    "tfidf_vectors = Dense(256, activation='relu')(tfidf_vectors)"
   ]
  },
  {
   "cell_type": "code",
   "execution_count": null,
   "metadata": {
    "colab": {},
    "colab_type": "code",
    "id": "rlNBswdYe3I8"
   },
   "outputs": [],
   "source": [
    "# Reshape both user and movie embedding layers\n",
    "user_vectors = Reshape([user_embed_dim])(user_embedding)\n",
    "movie_vectors = <YOUR CODE HERE>"
   ]
  },
  {
   "cell_type": "code",
   "execution_count": null,
   "metadata": {
    "colab": {},
    "colab_type": "code",
    "id": "LfcefQQEe3E2"
   },
   "outputs": [],
   "source": [
    "# Concatenate all layers into one \n",
    "hybrid_layer = Concatenate()([user_vectors, movie_vectors, tfidf_vectors])"
   ]
  },
  {
   "cell_type": "code",
   "execution_count": null,
   "metadata": {
    "colab": {},
    "colab_type": "code",
    "id": "WfZK5Dg9oxVA"
   },
   "outputs": [],
   "source": [
    "# add in dense and output layers\n",
    "dense = Dense(512, activation='relu')(hybrid_layer)\n",
    "dense = Dropout(0.2)(dense)\n",
    "output = Dense(1)(dense)"
   ]
  },
  {
   "cell_type": "code",
   "execution_count": null,
   "metadata": {
    "colab": {
     "base_uri": "https://localhost:8080/",
     "height": 622
    },
    "colab_type": "code",
    "id": "odLeDjgzoxYA",
    "outputId": "56430bf2-ce38-43d6-f2c7-82974b41af94"
   },
   "outputs": [],
   "source": [
    "# create and view model summary\n",
    "model = Model(inputs=[user_id_input, movie_id_input, tfidf_input], outputs=output)\n",
    "model.compile(loss='mse', optimizer='adam')\n",
    "model.summary()"
   ]
  },
  {
   "cell_type": "markdown",
   "metadata": {
    "colab_type": "text",
    "id": "upDnm3r76Ivj"
   },
   "source": [
    "#### Train and Test the Model"
   ]
  },
  {
   "cell_type": "code",
   "execution_count": null,
   "metadata": {
    "colab": {
     "base_uri": "https://localhost:8080/",
     "height": 386
    },
    "colab_type": "code",
    "id": "SmzWu6Xhoxnt",
    "outputId": "18233373-81f3-4bc1-a177-91b46e68b87f"
   },
   "outputs": [],
   "source": [
    "# fit the model\n",
    "batch_size=1024\n",
    "epochs=10\n",
    "X = [df_hybrid_train['User'], df_hybrid_train['Movie'], train_tfidf]\n",
    "y = df_hybrid_train['Rating']\n",
    "model.fit(X, y,\n",
    "          batch_size=batch_size, \n",
    "          epochs=epochs, ## Change the epochs to find better improved model.\n",
    "          validation_split=0.1,\n",
    "          shuffle=True)"
   ]
  },
  {
   "cell_type": "code",
   "execution_count": null,
   "metadata": {
    "colab": {
     "base_uri": "https://localhost:8080/",
     "height": 67
    },
    "colab_type": "code",
    "id": "ZLkTXmxhpK7r",
    "outputId": "4d99eaa3-5f84-4814-e083-a82058bacc68"
   },
   "outputs": [],
   "source": [
    "# create test input data and true outputs\n",
    "X_test = [df_hybrid_test['User'], df_hybrid_test['Movie'], test_tfidf]\n",
    "y_true = df_hybrid_test['Rating'].values \n",
    "\n",
    "# Test model by making predictions on test data\n",
    "y_pred = model.predict(X_test).ravel()\n",
    "# clip upper and lower ratings\n",
    "y_pred = list(map(lambda x: 1.0 if x < 1 else 5.0 if x > 5.0 else x, y_pred))\n",
    "\n",
    "#  Compute RMSE\n",
    "rmse = np.sqrt(mean_squared_error(y_pred=y_pred, y_true=y_true))\n",
    "print('\\n\\nTesting Result With DL Hybrid Recommender: {:.4f} RMSE'.format(rmse))"
   ]
  },
  {
   "cell_type": "code",
   "execution_count": null,
   "metadata": {
    "colab": {
     "base_uri": "https://localhost:8080/",
     "height": 639
    },
    "colab_type": "code",
    "id": "ecgDG4C9pLAG",
    "outputId": "e13970a0-c7a0-4b0d-d2f3-7d765e901881"
   },
   "outputs": [],
   "source": [
    "## Let's see how our collaborative model performs by seeing the predicted and actual rating for the given user and movie pair\n",
    "results_df = pd.DataFrame({\n",
    "    'User ID': df_hybrid_test['User'].values,\n",
    "    'Movie ID': df_hybrid_test['Movie'].values,\n",
    "    'Movie Name': [movie_titles['Name'].iloc[item] for item in df_hybrid_test['Movie']],\n",
    "    'Predicted Rating': np.round(y_pred, 1),\n",
    "    'Actual Rating': y_true\n",
    "})\n",
    "\n",
    "results_df.head(20)"
   ]
  }
 ],
 "metadata": {
  "accelerator": "GPU",
  "colab": {
   "collapsed_sections": [],
   "machine_shape": "hm",
   "name": "Recommendation_Systems.ipynb",
   "provenance": []
  },
  "kernelspec": {
   "display_name": "Python 3",
   "language": "python",
   "name": "python3"
  },
  "language_info": {
   "codemirror_mode": {
    "name": "ipython",
    "version": 3
   },
   "file_extension": ".py",
   "mimetype": "text/x-python",
   "name": "python",
   "nbconvert_exporter": "python",
   "pygments_lexer": "ipython3",
   "version": "3.9.6"
  },
  "vscode": {
   "interpreter": {
    "hash": "31f2aee4e71d21fbe5cf8b01ff0e069b9275f58929596ceb00d14d90e3e16cd6"
   }
  }
 },
 "nbformat": 4,
 "nbformat_minor": 1
}
